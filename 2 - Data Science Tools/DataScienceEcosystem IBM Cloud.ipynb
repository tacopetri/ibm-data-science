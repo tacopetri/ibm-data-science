{
    "metadata": {
        "kernelspec": {
            "name": "python3",
            "display_name": "Python 3.11",
            "language": "python"
        },
        "language_info": {
            "name": "python",
            "version": "3.11.9",
            "mimetype": "text/x-python",
            "codemirror_mode": {
                "name": "ipython",
                "version": 3
            },
            "pygments_lexer": "ipython3",
            "nbconvert_exporter": "python",
            "file_extension": ".py"
        }
    },
    "nbformat_minor": 5,
    "nbformat": 4,
    "cells": [
        {
            "id": "ae4e4d1c-8c03-4638-b5d0-737b68830d65",
            "cell_type": "markdown",
            "source": "# Data Science Tools and Ecosystem",
            "metadata": {}
        },
        {
            "id": "71f22731-8311-431f-a270-3b7af663473c",
            "cell_type": "markdown",
            "source": "## Author\nTaco Petri",
            "metadata": {}
        },
        {
            "id": "1c1477d4-781b-4698-9816-c6eb033a65cd",
            "cell_type": "markdown",
            "source": "In this notebook, Data Science Tools and Ecosystem are summarized.",
            "metadata": {}
        },
        {
            "id": "2e72ab00-1163-4d3c-84ae-bd58aeb537c1",
            "cell_type": "markdown",
            "source": "**Objectives:**\n- List popular languages for Data Science\n- List popular libraries for Data Science\n- Display popular tools for Data Science in a table\n- Evaluate arithmetic expressions in Python",
            "metadata": {}
        },
        {
            "id": "1485b264-636f-4f06-bb69-cbc96a0e5ac6",
            "cell_type": "markdown",
            "source": "Some of the popular languages that Data Scientists use are:\n1. Python\n2. R\n3. SQL\n4. Scala\n5. Julia",
            "metadata": {}
        },
        {
            "id": "4ef2bc51-e0be-4021-833e-568502685a97",
            "cell_type": "markdown",
            "source": "Some of the commonly used libraries used by Data Scientists include:\n1. NumPy\n2. Pandas\n3. Matplotlib\n4. Seaborn\n5. Scikit-learn\n6. TensorFlow\n7. Pytorch",
            "metadata": {}
        },
        {
            "id": "53426791-e355-4281-81f5-d274b8305de3",
            "cell_type": "markdown",
            "source": "| Data Science Tools |\n| ------------------ |\n| Jupyter Notebook |\n| JupyterLab |\n| Visual Studio Code |",
            "metadata": {}
        },
        {
            "id": "f05322bc-c279-4091-a31b-7a9e3fd524c6",
            "cell_type": "markdown",
            "source": "### Below are a few examples of evaluating arithmetic expressions in Python",
            "metadata": {}
        },
        {
            "id": "5890d973-c02d-4ab4-8ac0-1290f054b690",
            "cell_type": "code",
            "source": "# This a simple arithmetic expression to mutiply then add integers\n(3*4)+5",
            "metadata": {
                "id": "a5739f5b-65ed-4cd4-96c9-1eab5a0b696f"
            },
            "outputs": [
                {
                    "execution_count": 1,
                    "output_type": "execute_result",
                    "data": {
                        "text/plain": "17"
                    },
                    "metadata": {}
                }
            ],
            "execution_count": 1
        },
        {
            "id": "3eba506d-2110-4978-a0ab-f4ed642b2f7b",
            "cell_type": "code",
            "source": "# This will convert 200 minutes to hours by diving by 60\n200/60",
            "metadata": {
                "id": "2327bafd-cac0-4717-aa4c-031f00a3f5f9"
            },
            "outputs": [
                {
                    "execution_count": 2,
                    "output_type": "execute_result",
                    "data": {
                        "text/plain": "3.3333333333333335"
                    },
                    "metadata": {}
                }
            ],
            "execution_count": 2
        }
    ]
}